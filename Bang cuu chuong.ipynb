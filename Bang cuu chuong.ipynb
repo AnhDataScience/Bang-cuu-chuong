{
 "cells": [
  {
   "cell_type": "code",
   "execution_count": 4,
   "id": "89f92b89",
   "metadata": {},
   "outputs": [
    {
     "name": "stdout",
     "output_type": "stream",
     "text": [
      "1x1=1\t1x2=2\t1x3=3\t1x4=4\t1x5=5\t1x6=6\t1x7=7\t1x8=8\t1x9=9\t\n",
      "2x1=2\t2x2=4\t2x3=6\t2x4=8\t2x5=10\t2x6=12\t2x7=14\t2x8=16\t2x9=18\t\n",
      "3x1=3\t3x2=6\t3x3=9\t3x4=12\t3x5=15\t3x6=18\t3x7=21\t3x8=24\t3x9=27\t\n",
      "4x1=4\t4x2=8\t4x3=12\t4x4=16\t4x5=20\t4x6=24\t4x7=28\t4x8=32\t4x9=36\t\n",
      "5x1=5\t5x2=10\t5x3=15\t5x4=20\t5x5=25\t5x6=30\t5x7=35\t5x8=40\t5x9=45\t\n",
      "6x1=6\t6x2=12\t6x3=18\t6x4=24\t6x5=30\t6x6=36\t6x7=42\t6x8=48\t6x9=54\t\n",
      "7x1=7\t7x2=14\t7x3=21\t7x4=28\t7x5=35\t7x6=42\t7x7=49\t7x8=56\t7x9=63\t\n",
      "8x1=8\t8x2=16\t8x3=24\t8x4=32\t8x5=40\t8x6=48\t8x7=56\t8x8=64\t8x9=72\t\n",
      "9x1=9\t9x2=18\t9x3=27\t9x4=36\t9x5=45\t9x6=54\t9x7=63\t9x8=72\t9x9=81\t\n"
     ]
    }
   ],
   "source": [
    "\n",
    "for number in range(1,10):\n",
    "    for i in range(1,10):\n",
    "        print(str(number)+'x'+ str(i)+ '='+str(number*i), end ='\\t')\n",
    "    print('')"
   ]
  },
  {
   "cell_type": "code",
   "execution_count": 5,
   "id": "8950fbf2",
   "metadata": {},
   "outputs": [
    {
     "name": "stdout",
     "output_type": "stream",
     "text": [
      "So bd bang cuu chuong: 5\n",
      "So kt bang cuu chuong: 9\n",
      "5*1= 5\t\t6*1= 6\t\t7*1= 7\t\t8*1= 8\t\t9*1= 9\t\t\n",
      "5*2= 10\t\t6*2= 12\t\t7*2= 14\t\t8*2= 16\t\t9*2= 18\t\t\n",
      "5*3= 15\t\t6*3= 18\t\t7*3= 21\t\t8*3= 24\t\t9*3= 27\t\t\n",
      "5*4= 20\t\t6*4= 24\t\t7*4= 28\t\t8*4= 32\t\t9*4= 36\t\t\n",
      "5*5= 25\t\t6*5= 30\t\t7*5= 35\t\t8*5= 40\t\t9*5= 45\t\t\n",
      "5*6= 30\t\t6*6= 36\t\t7*6= 42\t\t8*6= 48\t\t9*6= 54\t\t\n",
      "5*7= 35\t\t6*7= 42\t\t7*7= 49\t\t8*7= 56\t\t9*7= 63\t\t\n",
      "5*8= 40\t\t6*8= 48\t\t7*8= 56\t\t8*8= 64\t\t9*8= 72\t\t\n",
      "5*9= 45\t\t6*9= 54\t\t7*9= 63\t\t8*9= 72\t\t9*9= 81\t\t\n"
     ]
    }
   ],
   "source": [
    "n = int(input('So bd bang cuu chuong: '))\n",
    "m = int(input('So kt bang cuu chuong: '))\n",
    "\n",
    "for i in range(1,10,1):\n",
    "    for j in range(n, m+1,1):\n",
    "        print(f'{j}*{i}= {i*j}' , end = \"\\t\\t\")\n",
    "    print('')"
   ]
  }
 ],
 "metadata": {
  "kernelspec": {
   "display_name": "Python 3 (ipykernel)",
   "language": "python",
   "name": "python3"
  },
  "language_info": {
   "codemirror_mode": {
    "name": "ipython",
    "version": 3
   },
   "file_extension": ".py",
   "mimetype": "text/x-python",
   "name": "python",
   "nbconvert_exporter": "python",
   "pygments_lexer": "ipython3",
   "version": "3.9.13"
  }
 },
 "nbformat": 4,
 "nbformat_minor": 5
}
